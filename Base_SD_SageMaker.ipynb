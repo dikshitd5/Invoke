{
  "cells": [
    {
      "cell_type": "markdown",
      "metadata": {
        "id": "view-in-github",
        "colab_type": "text"
      },
      "source": [
        "<a href=\"https://colab.research.google.com/github/dikshitd5/Invoke/blob/main/Base_SD_SageMaker.ipynb\" target=\"_parent\"><img src=\"https://colab.research.google.com/assets/colab-badge.svg\" alt=\"Open In Colab\"/></a>"
      ]
    },
    {
      "cell_type": "markdown",
      "metadata": {
        "id": "grG2f8fRZI6V",
        "tags": []
      },
      "source": [
        "# **StableDiffusion SageMaker version by @epic_miner**\n",
        "\n",
        "\n",
        "![youtube.png](data:image/png;base64,iVBORw0KGgoAAAANSUhEUgAAABAAAAAQCAMAAAAoLQ9TAAAAJ1BMVEVHcEz/AAD/AAD/AAD/AAD/AAD/AAD/AAD/AAD/////mJj/wcH/jY3aUCqcAAAACHRSTlMA8czbELSvDrGIfzkAAABCSURBVBiVY2AgA7CwMTMycgABIyMzGztQgIkDCTABBThQAEyAixtNgIeTkwu/AIYWZEMxrGVhZWaE8BiZWVnI8RoAJWEEDt2WmW4AAAAASUVORK5CYII=) **[YouTube](https://www.youtube.com/@epic_miner/featured)** | ![youtube.png](data:image/png;base64,iVBORw0KGgoAAAANSUhEUgAAABAAAAAQCAMAAAAoLQ9TAAAA0lBMVEVHcEwASXEAVIIASXEAW40AW40AW40AW40AW40AW40ASXEARmwASXEAPV4ATnkAQGQAUoAAUn8AWowAQmYANFEANVIAQWUASXEAUHwAQmcAWowASXEAUX0AW40ASXGPscSPr8B/pLh/rcYMUXdJfZkDS3KlwtIqdqBWhqB9q8WZtsY/dpQzbY1Xh6GUs8MAWowAUHwAVoUqdp8AVIJ9pLkqZ4h9orelvsyJq70AWosAWYoATniNrb+kwM8ATHZ+oreBpbnF1t8DS3PI1+BbiaNbiqT25ex8AAAAHXRSTlMAmzOe3PvEmp3+3Ar+CjM0M/v7CgoKCsUzNNz7+yV3I4EAAACzSURBVBjTTY/XEoJADEUjbUEBezdrASxg7737/79kdmEcz9PeM5NsLgCRY5qua0yBmKJpocQyMyJXDPxhCGPiHyZAzcJBvy3pL9FSgCGOhlwyXC+QgYbYO/si+/suXzVAJ+Hdyfg3r8t5Kxbj12TyGAvRlCPR9Pl5B9OIRFouDQOxIwi3nKfApW8vHcluw+26POx45QkqXerQ6YdTnKtlUcahcrM5RVstJX1dphXy6VRWvL8EBRlO0i9n9wAAAABJRU5ErkJggg==) **[epic_miner]** |\n",
        "\n",
        "\n",
        "_That notebook creates a local instance that constantly saves to your Amazon storage, so you don't need to download all models and install all requirements every time. Only once._\n",
        "\n",
        "If this notebook help's you then please dont forget to subscribe and like my vedio"
      ]
    },
    {
      "cell_type": "markdown",
      "metadata": {
        "id": "RE1n8kLOZI6Y",
        "jp-MarkdownHeadingCollapsed": true,
        "tags": []
      },
      "source": [
        "# **STEP 1** (Runs only once!)\n",
        "## Requirements 👇\n",
        "* _Don't forget to specify your ngroc token_"
      ]
    },
    {
      "cell_type": "code",
      "execution_count": null,
      "metadata": {
        "id": "A1p2bOziZI6Y",
        "tags": [],
        "outputId": "4373f5b1-7ef8-4bdf-e33e-9d66786c1a91"
      },
      "outputs": [
        {
          "name": "stdout",
          "output_type": "stream",
          "text": [
            "\u001b[1;32mDone!\n"
          ]
        }
      ],
      "source": [
        "print('\u001b[1;32mInstalling requirements...')\n",
        "\n",
        "from IPython.display import clear_output\n",
        "!conda install -c conda-forge libglib -y & conda update -n base conda -y\n",
        "\n",
        "!pip install tqdm\n",
        "\n",
        "clear_output()\n",
        "print('\u001b[1;32mDone! Conda installed!')\n",
        "\n",
        "!git clone https://github.com/rocketpal/stable-diffusion-webui\n",
        "%cd stable-diffusion-webui\n",
        "\n",
        "'''\n",
        "%pip install -r requirements.txt --quiet\n",
        "'''\n",
        "\n",
        "#ControlNet ext\n",
        "\n",
        "%cd /home/studio-lab-user/stable-diffusion-webui/extensions/\n",
        "!git clone https://github.com/rocketpal/sd-webui-controlnet\n",
        "%cd /home/studio-lab-user/stable-diffusion-webui\n",
        "\n",
        "clear_output()\n",
        "print('\u001b[1;32mDone!')"
      ]
    },
    {
      "cell_type": "markdown",
      "metadata": {
        "id": "7tJLpUoHZI6Z",
        "jp-MarkdownHeadingCollapsed": true,
        "tags": []
      },
      "source": [
        "# **STEP 2.1** (Runs only once!)\n",
        "## Download Base models 👇\n",
        "\n",
        "* Don't forget to run the cell bellow!"
      ]
    },
    {
      "cell_type": "code",
      "execution_count": null,
      "metadata": {
        "id": "FQyXmO0fZI6a",
        "tags": []
      },
      "outputs": [],
      "source": [
        "#Base models:\n",
        "\n",
        "model_link1 = 'https://huggingface.co/SG161222/Realistic_Vision_V5.1_noVAE/resolve/main/Realistic_Vision_V5.1.safetensors'\n",
        "model_link2 = ''\n",
        "model_link3 = ''\n",
        "model_link4 = ''\n",
        "model_link5 = ''\n",
        "\n",
        "\n",
        "\n",
        "\n",
        "\n",
        "\n",
        "\n",
        "\n",
        "\n",
        "\n",
        "\n",
        "\n",
        "\n",
        "\n",
        "#Run this to download base models:\n",
        "\n",
        "import os\n",
        "import requests\n",
        "from tqdm import tqdm\n",
        "\n",
        "# Function to download a file with progress\n",
        "def download_file(url, target_dir):\n",
        "    filename = url.split(\"/\")[-1]  # Extract the filename from the URL\n",
        "    download_path = os.path.join(target_dir, filename)\n",
        "    response = requests.get(url, stream=True)\n",
        "    total_size = int(response.headers.get(\"content-length\", 0))\n",
        "    block_size = 1024  # 1 Kibibyte\n",
        "\n",
        "    with open(download_path, \"wb\") as file, tqdm(\n",
        "        desc=filename,\n",
        "        total=total_size,\n",
        "        unit=\"B\",\n",
        "        unit_scale=True,\n",
        "        unit_divisor=1024,\n",
        "    ) as bar:\n",
        "        for data in response.iter_content(block_size):\n",
        "            file.write(data)\n",
        "            bar.update(len(data))\n",
        "\n",
        "\n",
        "\n",
        "#Base models\n",
        "download_links = [model_link1,\n",
        "                  model_link2,\n",
        "                  model_link3,\n",
        "                  model_link4,\n",
        "                  model_link5\n",
        "                 ]\n",
        "\n",
        "\n",
        "target_dir = \"/home/studio-lab-user/stable-diffusion-webui/models/Stable-diffusion/\"\n",
        "\n",
        "# Loop through the download links and download files to the target directory\n",
        "for link in download_links:\n",
        "    if link == '':\n",
        "        pass\n",
        "    else:\n",
        "        download_file(link, target_dir)"
      ]
    },
    {
      "cell_type": "markdown",
      "metadata": {
        "id": "3wZXNNiHZI6c",
        "jp-MarkdownHeadingCollapsed": true,
        "tags": []
      },
      "source": [
        "# **STEP 3**\n",
        "## Run StableDiffusion 👇\n",
        "Don't forget to specify your ngroc token!"
      ]
    },
    {
      "cell_type": "code",
      "execution_count": null,
      "metadata": {
        "_kg_hide-input": false,
        "_kg_hide-output": false,
        "id": "8af-hu-3ZI6c",
        "tags": []
      },
      "outputs": [],
      "source": [
        "%cd ~/stable-diffusion-webui\n",
        "!python launch.py --listen --xformers --enable-insecure-extension-access --gradio-queue --ngrok 2W3231xwzhftRMwLpIS0jiDd2lTNqs_6JmzFy51yhDQ85Q7NxeCT"
      ]
    },
    {
      "cell_type": "markdown",
      "metadata": {
        "id": "xMNePTxDZI6c",
        "jp-MarkdownHeadingCollapsed": true,
        "tags": []
      },
      "source": [
        "# **Maintenance**\n",
        "# **if you want to clear space then run this cell**"
      ]
    },
    {
      "cell_type": "code",
      "execution_count": null,
      "metadata": {
        "id": "U3fphZyuZI6c",
        "tags": []
      },
      "outputs": [],
      "source": [
        "#clean remove all env, cache and file\n",
        "\n",
        "!rm -r /home/studio-lab-user/.cache\n",
        "!rm -r /home/studio-lab-user/.conda\n",
        "!conda remove -n \"env_name\" --all\n",
        "!rm -rf /home/studio-lab-user/*"
      ]
    },
    {
      "cell_type": "code",
      "execution_count": null,
      "metadata": {
        "id": "YApy5h6TZI6d"
      },
      "outputs": [],
      "source": [
        "#Check the storage available\n",
        "!df -h | grep -E 'Avail|home'"
      ]
    },
    {
      "cell_type": "code",
      "execution_count": null,
      "metadata": {
        "id": "vwRdajvuZI6d",
        "tags": []
      },
      "outputs": [],
      "source": [
        "#List all folders and sizes\n",
        "!du -h --max-depth=1 /home/studio-lab-user"
      ]
    }
  ],
  "metadata": {
    "colab": {
      "collapsed_sections": [
        "RE1n8kLOZI6Y",
        "7tJLpUoHZI6Z",
        "3wZXNNiHZI6c",
        "xMNePTxDZI6c"
      ],
      "provenance": [],
      "include_colab_link": true
    },
    "kernelspec": {
      "display_name": "default:Python",
      "language": "python",
      "name": "conda-env-default-py"
    },
    "language_info": {
      "codemirror_mode": {
        "name": "ipython",
        "version": 3
      },
      "file_extension": ".py",
      "mimetype": "text/x-python",
      "name": "python",
      "nbconvert_exporter": "python",
      "pygments_lexer": "ipython3",
      "version": "3.9.16"
    }
  },
  "nbformat": 4,
  "nbformat_minor": 0
}